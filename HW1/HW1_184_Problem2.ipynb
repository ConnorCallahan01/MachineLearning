{
 "cells": [
  {
   "cell_type": "markdown",
   "metadata": {},
   "source": [
    "# CSCI 184 Homework #1\n",
    "## Patrick Callahan, Arjun Chimni, Andrew Schulz\n",
    "## Feature Selection"
   ]
  },
  {
   "cell_type": "markdown",
   "metadata": {},
   "source": [
    "## 1. Load the dataset. The link does not have any names for headers. Add them with the following (in order: Pregnancies, Glucose, BloodPressure, SkinThickness, Insulin, BMI, DiabetesPedigreeFunction, Age, Outcome)\n"
   ]
  },
  {
   "cell_type": "code",
   "execution_count": 42,
   "metadata": {},
   "outputs": [],
   "source": [
    "import pandas as pd\n",
    "import csv\n",
    "\n",
    "diabetes_data = pd.read_csv('pima-indians-diabetes.data.csv', names=['Pregnancies', 'Glucose', 'BloodPressure', 'SkinThickness', 'Insulin', 'BMI', 'DiabetesPedigreeFunction', 'Age', 'Outcome']) #Loading dataset\n",
    "diabetes_data_df = pd.DataFrame(diabetes_data) #Loading csv into dataframe\n"
   ]
  },
  {
   "cell_type": "markdown",
   "metadata": {},
   "source": [
    "## 2. Print the DataFrame and its shape."
   ]
  },
  {
   "cell_type": "code",
   "execution_count": 43,
   "metadata": {},
   "outputs": [
    {
     "data": {
      "text/html": [
       "<div>\n",
       "<style scoped>\n",
       "    .dataframe tbody tr th:only-of-type {\n",
       "        vertical-align: middle;\n",
       "    }\n",
       "\n",
       "    .dataframe tbody tr th {\n",
       "        vertical-align: top;\n",
       "    }\n",
       "\n",
       "    .dataframe thead th {\n",
       "        text-align: right;\n",
       "    }\n",
       "</style>\n",
       "<table border=\"1\" class=\"dataframe\">\n",
       "  <thead>\n",
       "    <tr style=\"text-align: right;\">\n",
       "      <th></th>\n",
       "      <th>Pregnancies</th>\n",
       "      <th>Glucose</th>\n",
       "      <th>BloodPressure</th>\n",
       "      <th>SkinThickness</th>\n",
       "      <th>Insulin</th>\n",
       "      <th>BMI</th>\n",
       "      <th>DiabetesPedigreeFunction</th>\n",
       "      <th>Age</th>\n",
       "      <th>Outcome</th>\n",
       "    </tr>\n",
       "  </thead>\n",
       "  <tbody>\n",
       "    <tr>\n",
       "      <th>0</th>\n",
       "      <td>6</td>\n",
       "      <td>148</td>\n",
       "      <td>72</td>\n",
       "      <td>35</td>\n",
       "      <td>0</td>\n",
       "      <td>33.6</td>\n",
       "      <td>0.627</td>\n",
       "      <td>50</td>\n",
       "      <td>1</td>\n",
       "    </tr>\n",
       "    <tr>\n",
       "      <th>1</th>\n",
       "      <td>1</td>\n",
       "      <td>85</td>\n",
       "      <td>66</td>\n",
       "      <td>29</td>\n",
       "      <td>0</td>\n",
       "      <td>26.6</td>\n",
       "      <td>0.351</td>\n",
       "      <td>31</td>\n",
       "      <td>0</td>\n",
       "    </tr>\n",
       "    <tr>\n",
       "      <th>2</th>\n",
       "      <td>8</td>\n",
       "      <td>183</td>\n",
       "      <td>64</td>\n",
       "      <td>0</td>\n",
       "      <td>0</td>\n",
       "      <td>23.3</td>\n",
       "      <td>0.672</td>\n",
       "      <td>32</td>\n",
       "      <td>1</td>\n",
       "    </tr>\n",
       "    <tr>\n",
       "      <th>3</th>\n",
       "      <td>1</td>\n",
       "      <td>89</td>\n",
       "      <td>66</td>\n",
       "      <td>23</td>\n",
       "      <td>94</td>\n",
       "      <td>28.1</td>\n",
       "      <td>0.167</td>\n",
       "      <td>21</td>\n",
       "      <td>0</td>\n",
       "    </tr>\n",
       "    <tr>\n",
       "      <th>4</th>\n",
       "      <td>0</td>\n",
       "      <td>137</td>\n",
       "      <td>40</td>\n",
       "      <td>35</td>\n",
       "      <td>168</td>\n",
       "      <td>43.1</td>\n",
       "      <td>2.288</td>\n",
       "      <td>33</td>\n",
       "      <td>1</td>\n",
       "    </tr>\n",
       "    <tr>\n",
       "      <th>...</th>\n",
       "      <td>...</td>\n",
       "      <td>...</td>\n",
       "      <td>...</td>\n",
       "      <td>...</td>\n",
       "      <td>...</td>\n",
       "      <td>...</td>\n",
       "      <td>...</td>\n",
       "      <td>...</td>\n",
       "      <td>...</td>\n",
       "    </tr>\n",
       "    <tr>\n",
       "      <th>763</th>\n",
       "      <td>10</td>\n",
       "      <td>101</td>\n",
       "      <td>76</td>\n",
       "      <td>48</td>\n",
       "      <td>180</td>\n",
       "      <td>32.9</td>\n",
       "      <td>0.171</td>\n",
       "      <td>63</td>\n",
       "      <td>0</td>\n",
       "    </tr>\n",
       "    <tr>\n",
       "      <th>764</th>\n",
       "      <td>2</td>\n",
       "      <td>122</td>\n",
       "      <td>70</td>\n",
       "      <td>27</td>\n",
       "      <td>0</td>\n",
       "      <td>36.8</td>\n",
       "      <td>0.340</td>\n",
       "      <td>27</td>\n",
       "      <td>0</td>\n",
       "    </tr>\n",
       "    <tr>\n",
       "      <th>765</th>\n",
       "      <td>5</td>\n",
       "      <td>121</td>\n",
       "      <td>72</td>\n",
       "      <td>23</td>\n",
       "      <td>112</td>\n",
       "      <td>26.2</td>\n",
       "      <td>0.245</td>\n",
       "      <td>30</td>\n",
       "      <td>0</td>\n",
       "    </tr>\n",
       "    <tr>\n",
       "      <th>766</th>\n",
       "      <td>1</td>\n",
       "      <td>126</td>\n",
       "      <td>60</td>\n",
       "      <td>0</td>\n",
       "      <td>0</td>\n",
       "      <td>30.1</td>\n",
       "      <td>0.349</td>\n",
       "      <td>47</td>\n",
       "      <td>1</td>\n",
       "    </tr>\n",
       "    <tr>\n",
       "      <th>767</th>\n",
       "      <td>1</td>\n",
       "      <td>93</td>\n",
       "      <td>70</td>\n",
       "      <td>31</td>\n",
       "      <td>0</td>\n",
       "      <td>30.4</td>\n",
       "      <td>0.315</td>\n",
       "      <td>23</td>\n",
       "      <td>0</td>\n",
       "    </tr>\n",
       "  </tbody>\n",
       "</table>\n",
       "<p>768 rows × 9 columns</p>\n",
       "</div>"
      ],
      "text/plain": [
       "     Pregnancies  Glucose  BloodPressure  SkinThickness  Insulin   BMI  \\\n",
       "0              6      148             72             35        0  33.6   \n",
       "1              1       85             66             29        0  26.6   \n",
       "2              8      183             64              0        0  23.3   \n",
       "3              1       89             66             23       94  28.1   \n",
       "4              0      137             40             35      168  43.1   \n",
       "..           ...      ...            ...            ...      ...   ...   \n",
       "763           10      101             76             48      180  32.9   \n",
       "764            2      122             70             27        0  36.8   \n",
       "765            5      121             72             23      112  26.2   \n",
       "766            1      126             60              0        0  30.1   \n",
       "767            1       93             70             31        0  30.4   \n",
       "\n",
       "     DiabetesPedigreeFunction  Age  Outcome  \n",
       "0                       0.627   50        1  \n",
       "1                       0.351   31        0  \n",
       "2                       0.672   32        1  \n",
       "3                       0.167   21        0  \n",
       "4                       2.288   33        1  \n",
       "..                        ...  ...      ...  \n",
       "763                     0.171   63        0  \n",
       "764                     0.340   27        0  \n",
       "765                     0.245   30        0  \n",
       "766                     0.349   47        1  \n",
       "767                     0.315   23        0  \n",
       "\n",
       "[768 rows x 9 columns]"
      ]
     },
     "execution_count": 43,
     "metadata": {},
     "output_type": "execute_result"
    }
   ],
   "source": [
    "diabetes_data_df #printing the DataFrame\n"
   ]
  },
  {
   "cell_type": "code",
   "execution_count": 44,
   "metadata": {},
   "outputs": [
    {
     "data": {
      "text/plain": [
       "(768, 9)"
      ]
     },
     "execution_count": 44,
     "metadata": {},
     "output_type": "execute_result"
    }
   ],
   "source": [
    "diabetes_data_df.shape #printing shape\n"
   ]
  },
  {
   "cell_type": "markdown",
   "metadata": {},
   "source": [
    "## 3. Convert the DataFrame object to NumPy array."
   ]
  },
  {
   "cell_type": "code",
   "execution_count": 45,
   "metadata": {},
   "outputs": [
    {
     "data": {
      "text/plain": [
       "array([[  6.   , 148.   ,  72.   , ...,   0.627,  50.   ,   1.   ],\n",
       "       [  1.   ,  85.   ,  66.   , ...,   0.351,  31.   ,   0.   ],\n",
       "       [  8.   , 183.   ,  64.   , ...,   0.672,  32.   ,   1.   ],\n",
       "       ...,\n",
       "       [  5.   , 121.   ,  72.   , ...,   0.245,  30.   ,   0.   ],\n",
       "       [  1.   , 126.   ,  60.   , ...,   0.349,  47.   ,   1.   ],\n",
       "       [  1.   ,  93.   ,  70.   , ...,   0.315,  23.   ,   0.   ]])"
      ]
     },
     "execution_count": 45,
     "metadata": {},
     "output_type": "execute_result"
    }
   ],
   "source": [
    "diabetes_data_df.to_numpy()"
   ]
  },
  {
   "cell_type": "markdown",
   "metadata": {},
   "source": [
    "## 4. Segregate the data into X and Y. Here ‘Outcome’ is your target variable."
   ]
  },
  {
   "cell_type": "code",
   "execution_count": 46,
   "metadata": {},
   "outputs": [],
   "source": [
    "target = diabetes_data_df['Outcome']\n",
    "del diabetes_data_df['Outcome']"
   ]
  },
  {
   "cell_type": "code",
   "execution_count": 47,
   "metadata": {},
   "outputs": [],
   "source": [
    "from sklearn.feature_selection import SelectKBest\n",
    "from sklearn.feature_selection import f_regression"
   ]
  },
  {
   "cell_type": "markdown",
   "metadata": {},
   "source": [
    "## 5. Perform Feature Extraction\n",
    "- a. Using Filter-Based Method\n",
    "    - i. For numerical input and categorical output, refer to slides to figure out which method you want to use.\n",
    "    \n",
    "## 6. Set k value to 3,4 and 5 for step 5"
   ]
  },
  {
   "cell_type": "code",
   "execution_count": 48,
   "metadata": {},
   "outputs": [
    {
     "name": "stdout",
     "output_type": "stream",
     "text": [
      "Index(['Glucose', 'BMI', 'Age'], dtype='object')\n",
      "[[148.   33.6  50. ]\n",
      " [ 85.   26.6  31. ]\n",
      " [183.   23.3  32. ]\n",
      " ...\n",
      " [121.   26.2  30. ]\n",
      " [126.   30.1  47. ]\n",
      " [ 93.   30.4  23. ]]\n"
     ]
    }
   ],
   "source": [
    "# k = 3\n",
    "select = SelectKBest(score_func=f_regression, k = 3) #set the k-value to 3\n",
    "z = select.fit_transform(diabetes_data_df, target) #transform the data\n",
    "filter = select.get_support() #filter the column names\n",
    "features = diabetes_data_df.columns\n",
    "print(features[filter]) # print the 3 best columns \n",
    "print(z)"
   ]
  },
  {
   "cell_type": "code",
   "execution_count": 49,
   "metadata": {},
   "outputs": [
    {
     "name": "stdout",
     "output_type": "stream",
     "text": [
      "Index(['Pregnancies', 'Glucose', 'BMI', 'Age'], dtype='object')\n",
      "[[  6.  148.   33.6  50. ]\n",
      " [  1.   85.   26.6  31. ]\n",
      " [  8.  183.   23.3  32. ]\n",
      " ...\n",
      " [  5.  121.   26.2  30. ]\n",
      " [  1.  126.   30.1  47. ]\n",
      " [  1.   93.   30.4  23. ]]\n"
     ]
    }
   ],
   "source": [
    "# k = 4\n",
    "select = SelectKBest(score_func=f_regression, k = 4) #set the k-value to 4\n",
    "z = select.fit_transform(diabetes_data_df, target) #transform the data\n",
    "filter = select.get_support() #filter the column names\n",
    "features = diabetes_data_df.columns\n",
    "print(features[filter]) # print the 3 best columns \n",
    "print(z)"
   ]
  },
  {
   "cell_type": "code",
   "execution_count": 50,
   "metadata": {},
   "outputs": [
    {
     "name": "stdout",
     "output_type": "stream",
     "text": [
      "Index(['Pregnancies', 'Glucose', 'BMI', 'DiabetesPedigreeFunction', 'Age'], dtype='object')\n",
      "[[  6.    148.     33.6     0.627  50.   ]\n",
      " [  1.     85.     26.6     0.351  31.   ]\n",
      " [  8.    183.     23.3     0.672  32.   ]\n",
      " ...\n",
      " [  5.    121.     26.2     0.245  30.   ]\n",
      " [  1.    126.     30.1     0.349  47.   ]\n",
      " [  1.     93.     30.4     0.315  23.   ]]\n"
     ]
    }
   ],
   "source": [
    "# k = 5\n",
    "select = SelectKBest(score_func=f_regression, k = 5) #set the k-value to 5\n",
    "z = select.fit_transform(diabetes_data_df, target) #transform the data\n",
    "filter = select.get_support() #filter the column names\n",
    "features = diabetes_data_df.columns\n",
    "print(features[filter]) # print the 3 best columns \n",
    "print(z)"
   ]
  },
  {
   "cell_type": "markdown",
   "metadata": {},
   "source": [
    "## 8. After you have extracted the features, build a Logistic Regression Model from sklearn using two features:\n",
    "- a. Case 1: Two of the features are from the list of extracted features using the Filter-based method for k = 3,4 and 5\n",
    "    - i. For example, if Pregnancies, Glucose, BMI and Age are the four features as a result of k = 4, choose any 2 of the features to train your model.\n",
    "- b. Case 2: Two of the features are columns that were not extracted in the feature extraction phase.\n",
    "    - i. For example, if Pregnancies, Glucose, BMI and Age are the four features as a result of k = 4, choose any 2 of the features from BloodPressure, SkinThickness, Insulin, DiabetesPedigreeFunction."
   ]
  },
  {
   "cell_type": "code",
   "execution_count": 51,
   "metadata": {},
   "outputs": [
    {
     "name": "stdout",
     "output_type": "stream",
     "text": [
      "For k = 3, features = BMI, Age, the precision is:  0.6363636363636364\n",
      "For k = 3, features = BMI, Age, the recall is:  0.3333333333333333\n",
      "For k = 3, features = BMI, Age, the F1-score is:  0.43749999999999994\n"
     ]
    }
   ],
   "source": [
    "from sklearn.model_selection import train_test_split\n",
    "from sklearn.linear_model import LogisticRegression\n",
    "from sklearn import metrics\n",
    "\n",
    "# 2 features for k = 3\n",
    "feature_cols = ['BMI', 'Age']\n",
    "X = diabetes_data_df[feature_cols]\n",
    "y = target\n",
    "\n",
    "X_train,X_test,y_train,y_test=train_test_split(X,y)\n",
    "\n",
    "logreg = LogisticRegression()\n",
    "logreg.fit(X_train,y_train)\n",
    "\n",
    "y_pred=logreg.predict(X_test)\n",
    "print(\"For k = 3, features = BMI, Age, the precision is: \", metrics.precision_score(y_test, y_pred))\n",
    "print(\"For k = 3, features = BMI, Age, the recall is: \", metrics.recall_score(y_test, y_pred))\n",
    "print(\"For k = 3, features = BMI, Age, the F1-score is: \", metrics.f1_score(y_test, y_pred))"
   ]
  },
  {
   "cell_type": "code",
   "execution_count": 52,
   "metadata": {},
   "outputs": [
    {
     "name": "stdout",
     "output_type": "stream",
     "text": [
      "For k = 3, features = BMI, Age, Glucose, the precision is:  0.7333333333333333\n",
      "For k = 3, features = BMI, Age, Glucose, the recall is:  0.5409836065573771\n",
      "For k = 3, features = BMI, Age, Glucose, the F1-score is:  0.6226415094339622\n"
     ]
    }
   ],
   "source": [
    "# 2 features for k = 4\n",
    "feature_cols = ['BMI', 'Glucose']\n",
    "X = diabetes_data_df[feature_cols]\n",
    "y = target\n",
    "\n",
    "X_train,X_test,y_train,y_test=train_test_split(X,y)\n",
    "\n",
    "logreg = LogisticRegression()\n",
    "logreg.fit(X_train,y_train)\n",
    "\n",
    "y_pred=logreg.predict(X_test)\n",
    "print(\"For k = 3, features = BMI, Age, Glucose, the precision is: \", metrics.precision_score(y_test, y_pred))\n",
    "print(\"For k = 3, features = BMI, Age, Glucose, the recall is: \", metrics.recall_score(y_test, y_pred))\n",
    "print(\"For k = 3, features = BMI, Age, Glucose, the F1-score is: \", metrics.f1_score(y_test, y_pred))"
   ]
  },
  {
   "cell_type": "code",
   "execution_count": 53,
   "metadata": {},
   "outputs": [
    {
     "name": "stdout",
     "output_type": "stream",
     "text": [
      "For k = 3, features = DiabetesPedigreeFunction, Glucose, the precision is:  0.5555555555555556\n",
      "For k = 3, features = DiabetesPedigreeFunction, Glucose, the recall is:  0.390625\n",
      "For k = 3, features = DiabetesPedigreeFunction, Glucose, the F1-score is:  0.45871559633027525\n"
     ]
    }
   ],
   "source": [
    "# 2 features for k = 4\n",
    "feature_cols = ['DiabetesPedigreeFunction', 'Glucose']\n",
    "X = diabetes_data_df[feature_cols]\n",
    "y = target\n",
    "\n",
    "X_train,X_test,y_train,y_test=train_test_split(X,y)\n",
    "\n",
    "logreg = LogisticRegression()\n",
    "logreg.fit(X_train,y_train)\n",
    "\n",
    "y_pred=logreg.predict(X_test)\n",
    "print(\"For k = 3, features = DiabetesPedigreeFunction, Glucose, the precision is: \", metrics.precision_score(y_test, y_pred))\n",
    "print(\"For k = 3, features = DiabetesPedigreeFunction, Glucose, the recall is: \", metrics.recall_score(y_test, y_pred))\n",
    "print(\"For k = 3, features = DiabetesPedigreeFunction, Glucose, the F1-score is: \", metrics.f1_score(y_test, y_pred))"
   ]
  },
  {
   "cell_type": "code",
   "execution_count": 54,
   "metadata": {},
   "outputs": [
    {
     "name": "stdout",
     "output_type": "stream",
     "text": [
      "For k = 3, features = Insulin, SkinThickness, the precision is:  1.0\n",
      "For k = 3, features = Insulin, SkinThickness, the recall is:  0.01639344262295082\n",
      "For k = 3, features = Insulin, SkinThickness, the F1-score is:  0.03225806451612903\n"
     ]
    }
   ],
   "source": [
    "# 2 features that weren't extracted\n",
    "feature_cols = ['Insulin', 'SkinThickness']\n",
    "X = diabetes_data_df[feature_cols]\n",
    "y = target\n",
    "\n",
    "X_train,X_test,y_train,y_test=train_test_split(X,y)\n",
    "\n",
    "logreg = LogisticRegression()\n",
    "logreg.fit(X_train,y_train)\n",
    "\n",
    "y_pred=logreg.predict(X_test)\n",
    "print(\"For k = 3, features = Insulin, SkinThickness, the precision is: \", metrics.precision_score(y_test, y_pred))\n",
    "print(\"For k = 3, features = Insulin, SkinThickness, the recall is: \", metrics.recall_score(y_test, y_pred))\n",
    "print(\"For k = 3, features = Insulin, SkinThickness, the F1-score is: \", metrics.f1_score(y_test, y_pred))\n"
   ]
  },
  {
   "cell_type": "code",
   "execution_count": null,
   "metadata": {},
   "outputs": [],
   "source": []
  },
  {
   "cell_type": "code",
   "execution_count": null,
   "metadata": {},
   "outputs": [],
   "source": []
  }
 ],
 "metadata": {
  "kernelspec": {
   "display_name": "Python 3",
   "language": "python",
   "name": "python3"
  },
  "language_info": {
   "codemirror_mode": {
    "name": "ipython",
    "version": 3
   },
   "file_extension": ".py",
   "mimetype": "text/x-python",
   "name": "python",
   "nbconvert_exporter": "python",
   "pygments_lexer": "ipython3",
   "version": "3.8.5"
  }
 },
 "nbformat": 4,
 "nbformat_minor": 4
}
